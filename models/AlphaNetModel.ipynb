{
 "cells": [
  {
   "cell_type": "code",
   "execution_count": 5,
   "id": "initial_id",
   "metadata": {
    "collapsed": true,
    "ExecuteTime": {
     "end_time": "2023-10-08T00:22:47.903496900Z",
     "start_time": "2023-10-08T00:22:47.899497400Z"
    }
   },
   "outputs": [],
   "source": [
    "from utils.NewsManager import  NewsManager"
   ]
  },
  {
   "cell_type": "markdown",
   "source": [
    "# 1. Get the newsapi key from settings\n",
    "\n"
   ],
   "metadata": {
    "collapsed": false
   },
   "id": "3ce56c0e29e9885c"
  },
  {
   "cell_type": "code",
   "execution_count": 6,
   "outputs": [],
   "source": [
    "newsManager = NewsManager()"
   ],
   "metadata": {
    "collapsed": false,
    "ExecuteTime": {
     "end_time": "2023-10-08T00:22:49.973676500Z",
     "start_time": "2023-10-08T00:22:49.970678Z"
    }
   },
   "id": "d0a5194b4bbef3a5"
  },
  {
   "cell_type": "code",
   "execution_count": 3,
   "outputs": [],
   "source": [],
   "metadata": {
    "collapsed": false,
    "ExecuteTime": {
     "end_time": "2023-10-08T00:08:14.841434400Z",
     "start_time": "2023-10-08T00:08:14.839434100Z"
    }
   },
   "id": "23c4f507c554869d"
  }
 ],
 "metadata": {
  "kernelspec": {
   "name": "alphapressnet",
   "language": "python",
   "display_name": "AlphaPressNet"
  },
  "language_info": {
   "codemirror_mode": {
    "name": "ipython",
    "version": 2
   },
   "file_extension": ".py",
   "mimetype": "text/x-python",
   "name": "python",
   "nbconvert_exporter": "python",
   "pygments_lexer": "ipython2",
   "version": "2.7.6"
  }
 },
 "nbformat": 4,
 "nbformat_minor": 5
}
